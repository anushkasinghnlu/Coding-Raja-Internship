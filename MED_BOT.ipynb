{
  "nbformat": 4,
  "nbformat_minor": 0,
  "metadata": {
    "colab": {
      "provenance": [],
      "authorship_tag": "ABX9TyMiHL22V8dlTW49trZny6C/",
      "include_colab_link": true
    },
    "kernelspec": {
      "name": "python3",
      "display_name": "Python 3"
    },
    "language_info": {
      "name": "python"
    }
  },
  "cells": [
    {
      "cell_type": "markdown",
      "metadata": {
        "id": "view-in-github",
        "colab_type": "text"
      },
      "source": [
        "<a href=\"https://colab.research.google.com/github/anushkasinghnlu/Coding-Raja-Internship/blob/main/MED_BOT.ipynb\" target=\"_parent\"><img src=\"https://colab.research.google.com/assets/colab-badge.svg\" alt=\"Open In Colab\"/></a>"
      ]
    },
    {
      "cell_type": "code",
      "execution_count": null,
      "metadata": {
        "id": "4fwsDoQK6RnY"
      },
      "outputs": [],
      "source": [
        "import re\n",
        "import random"
      ]
    },
    {
      "cell_type": "code",
      "source": [
        "class MedBot:\n",
        "    def __init__(self):\n",
        "        self.medicines = {\n",
        "            \"Paracetamol\": 10,\n",
        "            \"Aspirin\": 15,\n",
        "            \"Cough Syrup\": 20,\n",
        "            \"Antibiotics\": 30,\n",
        "            \"Vitamins\": 25,\n",
        "            \"Dolo\": 12,\n",
        "        }\n",
        "\n",
        "    def start_conversation(self):\n",
        "        print(\"Bot: I am med bot. How may I assist you?\")\n",
        "        user_input = input().lower()\n",
        "        if user_input == \"no\":\n",
        "            print(\"Bot:Thank you for visiting us. Have a good day!\")\n",
        "        else:\n",
        "            self.process_order()\n",
        "\n",
        "    def process_order(self):\n",
        "        print(\"Bot: Here is the list of available medicines with prices:\")\n",
        "        for medicine, price in self.medicines.items():\n",
        "            print(f\"{medicine}: ${price}\")\n",
        "        user_medicine = input(\"Please enter the medicine you want: \").capitalize()\n",
        "        if user_medicine in self.medicines:\n",
        "            quantity = int(input(\"Enter the quantity you want: \"))\n",
        "            total_cost = self.medicines[user_medicine] * quantity\n",
        "            print(f\"Total cost: ${total_cost}\")\n",
        "            confirm_order = input(\"Would you like to place the order? (yes/no): \").lower()\n",
        "            if confirm_order == \"yes\":\n",
        "                self.confirm_and_place_order()\n",
        "            else:\n",
        "                print(\"Bot: Order not placed. Have a good day!\")\n",
        "        else:\n",
        "            print(\"Bot: Medicine not found.\")\n",
        "\n",
        "    def confirm_and_place_order(self):\n",
        "        print(\"Bot: Please provide your name, address and phone number for delivery.\")\n",
        "        self.name=input(\"Please enter your name: \")\n",
        "        self.address=input(\"Please enter your address: \")\n",
        "        self.phone_number=input(\"Please enter your phone numer: \")\n",
        "        print(\"Bot: Order placed successfully. Your medicines will be delivered soon.\")\n",
        "        print(\"Bot: All the necessary details will be shared to you through your phone number.\")\n",
        "        print(\"Bot: Have a good day!\")\n",
        "\n",
        "\n",
        "med_bot = MedBot()\n",
        "med_bot.start_conversation()"
      ],
      "metadata": {
        "colab": {
          "base_uri": "https://localhost:8080/"
        },
        "id": "GFEAB8Zi6fSX",
        "outputId": "b990deb2-a2bd-460f-b79c-92546c72c956"
      },
      "execution_count": null,
      "outputs": [
        {
          "metadata": {
            "tags": null
          },
          "name": "stdout",
          "output_type": "stream",
          "text": [
            "Bot: I am med bot. How may I assist you?\n",
            "Bot: Here is the list of available medicines with prices:\n",
            "Paracetamol: $10\n",
            "Aspirin: $15\n",
            "Cough Syrup: $20\n",
            "Antibiotics: $30\n",
            "Vitamins: $25\n",
            "Dolo: $12\n"
          ]
        }
      ]
    }
  ]
}